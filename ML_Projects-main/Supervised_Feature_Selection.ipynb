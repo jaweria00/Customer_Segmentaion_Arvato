{
 "cells": [
  {
   "cell_type": "code",
   "execution_count": 6,
   "metadata": {},
   "outputs": [],
   "source": [
    "# import libraries here; add more as necessary\n",
    "import numpy as np\n",
    "import pandas as pd\n",
    "import matplotlib.pyplot as plt\n",
    "\n",
    "import os\n",
    "\n",
    "import helper_functions as hf\n",
    "\n",
    "from sklearn.preprocessing import StandardScaler, scale, MaxAbsScaler\n",
    "from sklearn.preprocessing import MinMaxScaler\n",
    "from sklearn.feature_selection import SelectKBest, chi2\n",
    "from sklearn.decomposition import PCA\n",
    "from sklearn.metrics import mean_squared_error\n",
    "from sklearn.linear_model import LogisticRegression\n",
    "from sklearn.ensemble import RandomForestClassifier, AdaBoostClassifier\n",
    "from sklearn.model_selection import cross_validate, GridSearchCV\n",
    "from xgboost import XGBClassifier\n",
    "\n",
    "# magic word for producing visualizations in notebook\n",
    "%matplotlib inline\n",
    "\n",
    "datafolder = \"../data/\"\n",
    "\n",
    "traindatafile = \"../data/Udacity_MAILOUT_052018_TRAIN.csv\"\n",
    "testdatafile = \"../data/Udacity_MAILOUT_052018_TEST.csv\"\n",
    "\n",
    "precleaned_train = \"../data/cleaned_Udacity_MAILOUT_052018_TRAIN.csv\"\n",
    "precleaned_test = \"../data/cleaned_Udacity_MAILOUT_052018_TEST.csv\""
   ]
  },
  {
   "cell_type": "code",
   "execution_count": 7,
   "metadata": {},
   "outputs": [
    {
     "name": "stdout",
     "output_type": "stream",
     "text": [
      "(42962, 200) (42833, 199)\n"
     ]
    }
   ],
   "source": [
    "traindata = pd.read_csv(precleaned_train, sep=\",\")\n",
    "testdata = pd.read_csv(precleaned_test, sep=\",\")\n",
    "print(traindata.shape, testdata.shape)"
   ]
  },
  {
   "cell_type": "code",
   "execution_count": 8,
   "metadata": {},
   "outputs": [
    {
     "name": "stdout",
     "output_type": "stream",
     "text": [
      "(42962, 197) (42962,) (42833, 197)\n"
     ]
    }
   ],
   "source": [
    "#######################################################################################################################\n",
    "# Step 1 : Select the columns that are used for X and Y for training and testing data\n",
    "#######################################################################################################################\n",
    "# exclude the features we know are just related to ID and hold no meaning\n",
    "excluded_columns = [\"LNR\", \"AGER_TYP\"]\n",
    "\n",
    "Ytrain = traindata.RESPONSE\n",
    "Xtrain = traindata.drop(excluded_columns + [\"RESPONSE\"], axis=1)\n",
    "\n",
    "Xtest = testdata.drop(excluded_columns, axis=1)  # test dataset has no RESPONSE column\n",
    "\n",
    "feature_columns = Xtrain.columns.tolist()\n",
    "\n",
    "print(Xtrain.shape, Ytrain.shape, Xtest.shape)"
   ]
  },
  {
   "cell_type": "code",
   "execution_count": 9,
   "metadata": {},
   "outputs": [
    {
     "name": "stderr",
     "output_type": "stream",
     "text": [
      "[Parallel(n_jobs=-1)]: Using backend ThreadingBackend with 8 concurrent workers.\n",
      "[Parallel(n_jobs=-1)]: Done  34 tasks      | elapsed:    0.1s\n",
      "[Parallel(n_jobs=-1)]: Done 100 out of 100 | elapsed:    0.3s finished\n",
      "[Parallel(n_jobs=8)]: Using backend ThreadingBackend with 8 concurrent workers.\n",
      "[Parallel(n_jobs=8)]: Done  34 tasks      | elapsed:    0.0s\n",
      "[Parallel(n_jobs=8)]: Done 100 out of 100 | elapsed:    0.0s finished\n"
     ]
    }
   ],
   "source": [
    "#######################################################################################################################\n",
    "# Step 1b : Do supervised learning without any feature scaling/selection (Benchmark)\n",
    "#######################################################################################################################\n",
    "model = RandomForestClassifier(class_weight=\"balanced\", max_depth=1, n_jobs=-1, verbose=1)\n",
    "model.fit(Xtrain, Ytrain)\n",
    "\n",
    "predictions = model.predict_proba(Xtest)\n",
    "\n",
    "results = pd.DataFrame({\"LNR\":testdata.LNR, \"RESPONSE\":predictions[:, 1]}).to_csv(\"{} BENCHMARK.csv\".format(\n",
    "    model.__class__.__name__), index=False)"
   ]
  },
  {
   "cell_type": "code",
   "execution_count": 33,
   "metadata": {},
   "outputs": [],
   "source": [
    "#tweaking parameters to get higher results on Kaggle[delete it later]\n",
    "model = RandomForestClassifier(class_weight='balanced', criterion='entropy',  max_depth=4, n_estimators=200, random_state=42, max_features='auto')\n",
    "model.fit(Xtrain, Ytrain)\n",
    "\n",
    "predictions = model.predict_proba(Xtest)\n",
    "\n",
    "results = pd.DataFrame({\"LNR\":testdata.LNR, \"RESPONSE\":predictions[:, 1]}).to_csv(\"{} 3results_based_tweak_rfc.csv\".format(\n",
    "    model.__class__.__name__), index=False)"
   ]
  },
  {
   "cell_type": "code",
   "execution_count": 32,
   "metadata": {},
   "outputs": [],
   "source": [
    "#tweaking parameters to get higher results on Kaggle[delete it later]\n",
    "model = RandomForestClassifier(class_weight='balanced', criterion='entropy',  max_depth=4, n_estimators=150, random_state=42, max_features='auto')\n",
    "model.fit(Xtrain, Ytrain)\n",
    "\n",
    "predictions = model.predict_proba(Xtest)\n",
    "\n",
    "results = pd.DataFrame({\"LNR\":testdata.LNR, \"RESPONSE\":predictions[:, 1]}).to_csv(\"{} 2results_based_tweak_rfc.csv\".format(\n",
    "    model.__class__.__name__), index=False)"
   ]
  },
  {
   "cell_type": "code",
   "execution_count": null,
   "metadata": {},
   "outputs": [],
   "source": []
  },
  {
   "cell_type": "code",
   "execution_count": 29,
   "metadata": {},
   "outputs": [
    {
     "name": "stderr",
     "output_type": "stream",
     "text": [
      "[Parallel(n_jobs=-1)]: Using backend LokyBackend with 8 concurrent workers.\n",
      "[Parallel(n_jobs=-1)]: Done   1 out of   1 | elapsed:   35.8s finished\n"
     ]
    }
   ],
   "source": [
    "model = LogisticRegression(C=1, class_weight=\"balanced\", n_jobs=-1, max_iter=200, verbose=1)\n",
    "model.fit(Xtrain, Ytrain)\n",
    "\n",
    "predictions = model.predict_proba(Xtest)\n",
    "\n",
    "results = pd.DataFrame({\"LNR\":testdata.LNR, \"RESPONSE\":predictions[:, 1]}).to_csv(\"{} LogisticBENCHMARK.csv\".format(\n",
    "    model.__class__.__name__), index=False)"
   ]
  },
  {
   "cell_type": "code",
   "execution_count": 28,
   "metadata": {},
   "outputs": [],
   "source": [
    "model = XGBClassifier(n_estimators = 100, max_depth=1, verbosity=1, random_state=42, n_jobs=-1)\n",
    "model.fit(Xtrain, Ytrain)\n",
    "\n",
    "predictions = model.predict_proba(Xtest)\n",
    "\n",
    "results = pd.DataFrame({\"LNR\":testdata.LNR, \"RESPONSE\":predictions[:, 1]}).to_csv(\"{} XGBBENCHMARK.csv\".format(\n",
    "    model.__class__.__name__), index=False)"
   ]
  },
  {
   "cell_type": "code",
   "execution_count": 10,
   "metadata": {},
   "outputs": [
    {
     "name": "stdout",
     "output_type": "stream",
     "text": [
      "Training LogisticRegression\n"
     ]
    },
    {
     "name": "stderr",
     "output_type": "stream",
     "text": [
      "[Parallel(n_jobs=-1)]: Using backend LokyBackend with 8 concurrent workers.\n",
      "[Parallel(n_jobs=-1)]: Done   2 out of   5 | elapsed:    4.9s remaining:    7.4s\n",
      "[Parallel(n_jobs=-1)]: Done   5 out of   5 | elapsed:    5.0s finished\n"
     ]
    },
    {
     "name": "stdout",
     "output_type": "stream",
     "text": [
      "Training DecisionTreeClassifier\n"
     ]
    },
    {
     "name": "stderr",
     "output_type": "stream",
     "text": [
      "[Parallel(n_jobs=-1)]: Using backend LokyBackend with 8 concurrent workers.\n",
      "[Parallel(n_jobs=-1)]: Done   2 out of   5 | elapsed:    2.4s remaining:    3.6s\n",
      "[Parallel(n_jobs=-1)]: Done   5 out of   5 | elapsed:    3.6s finished\n"
     ]
    },
    {
     "name": "stdout",
     "output_type": "stream",
     "text": [
      "Training RandomForestClassifier\n"
     ]
    },
    {
     "name": "stderr",
     "output_type": "stream",
     "text": [
      "[Parallel(n_jobs=-1)]: Using backend LokyBackend with 8 concurrent workers.\n",
      "[Parallel(n_jobs=-1)]: Done   2 out of   5 | elapsed:   12.5s remaining:   18.8s\n",
      "[Parallel(n_jobs=-1)]: Done   5 out of   5 | elapsed:   12.6s finished\n"
     ]
    },
    {
     "name": "stdout",
     "output_type": "stream",
     "text": [
      "Training KNeighborsClassifier\n"
     ]
    },
    {
     "name": "stderr",
     "output_type": "stream",
     "text": [
      "[Parallel(n_jobs=-1)]: Using backend LokyBackend with 8 concurrent workers.\n",
      "[Parallel(n_jobs=-1)]: Done   2 out of   5 | elapsed:  4.0min remaining:  6.0min\n",
      "[Parallel(n_jobs=-1)]: Done   5 out of   5 | elapsed:  4.1min finished\n"
     ]
    }
   ],
   "source": [
    "from sklearn.linear_model import LogisticRegression\n",
    "from sklearn.tree import DecisionTreeClassifier\n",
    "from sklearn.ensemble import RandomForestClassifier\n",
    "from sklearn.neighbors import KNeighborsClassifier\n",
    "from sklearn.model_selection import train_test_split, cross_validate\n",
    "\n",
    "logistic = LogisticRegression(class_weight=\"balanced\")\n",
    "dtree = DecisionTreeClassifier(class_weight=\"balanced\")\n",
    "randomforest = RandomForestClassifier(class_weight=\"balanced\")\n",
    "knn = KNeighborsClassifier()\n",
    "\n",
    "classifiers = [logistic, dtree, randomforest, knn] #removed svc from the list\n",
    "scoring_metrics = [\"accuracy\", \"f1\", \"precision\", \"recall\", \"roc_auc\"]\n",
    "\n",
    "cv_results = {}\n",
    "\n",
    "for clf in classifiers:\n",
    "    clfname = clf.__class__.__name__\n",
    "    print(\"Training {}\".format(clfname))   # __class__ gets the class object and then the __name__ property is present for any class and returns the name of the class\n",
    "    results = cross_validate(clf, Xtrain, Ytrain, cv=5, n_jobs=-1, scoring=scoring_metrics, verbose=1, return_train_score=True)\n",
    "    cv_results[clfname] = results"
   ]
  },
  {
   "cell_type": "code",
   "execution_count": 11,
   "metadata": {
    "scrolled": true
   },
   "outputs": [
    {
     "name": "stdout",
     "output_type": "stream",
     "text": [
      "Scaling 105 non-onehot-encoded columns\n",
      "(42962, 105)\n",
      "done\n",
      "Transforming the test data with the scaler trained on the training data\n",
      "Completed feature scaling for Xtrain and Xtest, shape:  (42962, 197) (42833, 197)\n"
     ]
    }
   ],
   "source": [
    "#######################################################################################################################\n",
    "# Step 2 : Perform feature scaling\n",
    "#######################################################################################################################\n",
    "# Feature scaling is performed on all non-onehot-encoded columns\n",
    "# find which columns were one-hot encoded, these won't be scaled using standard scalar or any other means of scaling\n",
    "onehot_cols = []\n",
    "for col in feature_columns:\n",
    "    value_counts = Xtrain[col].value_counts().index.tolist()\n",
    "    if value_counts[0]==0. and value_counts[1]==1.: # one-hot encoded columns are either zero or one. no other columns have this pattern\n",
    "        onehot_cols.append(col)\n",
    "    \n",
    "columns_to_scale = [m for m in feature_columns if m not in onehot_cols]\n",
    "print(f\"Scaling {len(columns_to_scale)} non-onehot-encoded columns\")\n",
    "\n",
    "scaler = MinMaxScaler()  # use min-max so feature selectors that rely on positive features only don't break\n",
    "rescaled_data = scaler.fit_transform(Xtrain[columns_to_scale])\n",
    "print(rescaled_data.shape)\n",
    "print(\"done\")\n",
    "\n",
    "# combine the scaled features with the categorical ones\n",
    "Xtrain[columns_to_scale] = rescaled_data\n",
    "\n",
    "# IMPORTANT : Any transformations done on the training data also need to be applied on the test data\n",
    "print(\"Transforming the test data with the scaler trained on the training data\")\n",
    "Xtest[columns_to_scale] = scaler.transform(Xtest[columns_to_scale])  # use transform which holds the state from fit() call\n",
    "\n",
    "print(\"Completed feature scaling for Xtrain and Xtest, shape: \", Xtrain.shape, Xtest.shape)\n"
   ]
  },
  {
   "cell_type": "code",
   "execution_count": 12,
   "metadata": {
    "scrolled": true
   },
   "outputs": [
    {
     "name": "stdout",
     "output_type": "stream",
     "text": [
      "Dropped 147 columns, left with 50 features\n"
     ]
    },
    {
     "data": {
      "image/png": "[encoded data removed]",
      "text/plain": [
       "<Figure size 1152x1152 with 1 Axes>"
      ]
     },
     "metadata": {
      "needs_background": "light"
     },
     "output_type": "display_data"
    }
   ],
   "source": [
    "#######################################################################################################################\n",
    "# Step 3 : Perform Feature Selection on the scaled data using a statistical method\n",
    "#######################################################################################################################\n",
    "selector = SelectKBest(chi2, k=\"all\")  # start with all to visualize feature importances\n",
    "importance_weights = selector.fit_transform(Xtrain, Ytrain)\n",
    "\n",
    "feature_scores = selector.scores_\n",
    "topN = np.argsort(feature_scores*-1)[0:50]  # multiply by -1 to sort descending\n",
    "\n",
    "plt.figure(figsize=(16,16))\n",
    "plt.barh(np.array(feature_columns)[topN], feature_scores[topN])\n",
    "\n",
    "\n",
    "\"\"\"\n",
    "There is no \"right\" answer for what is the best number of features to select. \n",
    "A good estimate of 50 can be gauged based on the barchart \n",
    "\"\"\"\n",
    "top50 =  np.argsort(feature_scores*-1)[0:50]  # -1 multiplication to sort descending order\n",
    "feature_selected_columns = np.array(feature_columns)[top50]\n",
    "print(f\"Dropped {len(feature_columns)-len(feature_selected_columns)} columns, left with {len(feature_selected_columns)} features\")"
   ]
  },
  {
   "cell_type": "code",
   "execution_count": 13,
   "metadata": {},
   "outputs": [
    {
     "name": "stdout",
     "output_type": "stream",
     "text": [
      "(42962, 40) (42833, 40)\n"
     ]
    },
    {
     "data": {
      "text/html": [
       "<div>\n",
       "<style scoped>\n",
       "    .dataframe tbody tr th:only-of-type {\n",
       "        vertical-align: middle;\n",
       "    }\n",
       "\n",
       "    .dataframe tbody tr th {\n",
       "        vertical-align: top;\n",
       "    }\n",
       "\n",
       "    .dataframe thead th {\n",
       "        text-align: right;\n",
       "    }\n",
       "</style>\n",
       "<table border=\"1\" class=\"dataframe\">\n",
       "  <thead>\n",
       "    <tr style=\"text-align: right;\">\n",
       "      <th></th>\n",
       "      <th>component1</th>\n",
       "      <th>component2</th>\n",
       "      <th>component3</th>\n",
       "      <th>component4</th>\n",
       "      <th>component5</th>\n",
       "      <th>component6</th>\n",
       "      <th>component7</th>\n",
       "      <th>component8</th>\n",
       "      <th>component9</th>\n",
       "      <th>component10</th>\n",
       "      <th>...</th>\n",
       "      <th>component31</th>\n",
       "      <th>component32</th>\n",
       "      <th>component33</th>\n",
       "      <th>component34</th>\n",
       "      <th>component35</th>\n",
       "      <th>component36</th>\n",
       "      <th>component37</th>\n",
       "      <th>component38</th>\n",
       "      <th>component39</th>\n",
       "      <th>component40</th>\n",
       "    </tr>\n",
       "  </thead>\n",
       "  <tbody>\n",
       "    <tr>\n",
       "      <th>0</th>\n",
       "      <td>-1.227235</td>\n",
       "      <td>-0.535039</td>\n",
       "      <td>-0.207585</td>\n",
       "      <td>-0.329875</td>\n",
       "      <td>0.331613</td>\n",
       "      <td>-0.044203</td>\n",
       "      <td>0.000522</td>\n",
       "      <td>-0.315153</td>\n",
       "      <td>-0.298563</td>\n",
       "      <td>-0.145047</td>\n",
       "      <td>...</td>\n",
       "      <td>0.792512</td>\n",
       "      <td>0.083452</td>\n",
       "      <td>-0.327838</td>\n",
       "      <td>0.041809</td>\n",
       "      <td>-0.018397</td>\n",
       "      <td>-0.017271</td>\n",
       "      <td>0.055128</td>\n",
       "      <td>-0.005483</td>\n",
       "      <td>-0.031743</td>\n",
       "      <td>0.003997</td>\n",
       "    </tr>\n",
       "    <tr>\n",
       "      <th>1</th>\n",
       "      <td>1.003797</td>\n",
       "      <td>-0.176693</td>\n",
       "      <td>-0.210427</td>\n",
       "      <td>0.563341</td>\n",
       "      <td>1.481934</td>\n",
       "      <td>0.010532</td>\n",
       "      <td>0.157231</td>\n",
       "      <td>0.292022</td>\n",
       "      <td>0.280775</td>\n",
       "      <td>0.194263</td>\n",
       "      <td>...</td>\n",
       "      <td>0.004863</td>\n",
       "      <td>-0.038510</td>\n",
       "      <td>-0.096814</td>\n",
       "      <td>-0.027659</td>\n",
       "      <td>0.034862</td>\n",
       "      <td>0.319607</td>\n",
       "      <td>0.213928</td>\n",
       "      <td>0.586479</td>\n",
       "      <td>0.607236</td>\n",
       "      <td>0.106881</td>\n",
       "    </tr>\n",
       "    <tr>\n",
       "      <th>2</th>\n",
       "      <td>-1.100756</td>\n",
       "      <td>-0.713700</td>\n",
       "      <td>0.981225</td>\n",
       "      <td>0.425008</td>\n",
       "      <td>-0.739965</td>\n",
       "      <td>0.712751</td>\n",
       "      <td>-0.438088</td>\n",
       "      <td>0.001454</td>\n",
       "      <td>-0.083683</td>\n",
       "      <td>-0.094030</td>\n",
       "      <td>...</td>\n",
       "      <td>0.025443</td>\n",
       "      <td>0.024869</td>\n",
       "      <td>0.076152</td>\n",
       "      <td>0.032586</td>\n",
       "      <td>-0.015634</td>\n",
       "      <td>-0.001809</td>\n",
       "      <td>-0.031624</td>\n",
       "      <td>-0.031576</td>\n",
       "      <td>0.019893</td>\n",
       "      <td>-0.001189</td>\n",
       "    </tr>\n",
       "    <tr>\n",
       "      <th>3</th>\n",
       "      <td>-1.087891</td>\n",
       "      <td>-1.055981</td>\n",
       "      <td>-0.315088</td>\n",
       "      <td>0.310337</td>\n",
       "      <td>-0.578760</td>\n",
       "      <td>0.320032</td>\n",
       "      <td>-0.494154</td>\n",
       "      <td>0.122066</td>\n",
       "      <td>-0.227204</td>\n",
       "      <td>0.061729</td>\n",
       "      <td>...</td>\n",
       "      <td>0.022732</td>\n",
       "      <td>0.010944</td>\n",
       "      <td>-0.016621</td>\n",
       "      <td>0.024395</td>\n",
       "      <td>-0.028334</td>\n",
       "      <td>-0.000324</td>\n",
       "      <td>0.002731</td>\n",
       "      <td>-0.009500</td>\n",
       "      <td>-0.001701</td>\n",
       "      <td>0.004472</td>\n",
       "    </tr>\n",
       "    <tr>\n",
       "      <th>4</th>\n",
       "      <td>-1.148789</td>\n",
       "      <td>-0.613098</td>\n",
       "      <td>-0.198405</td>\n",
       "      <td>-0.114587</td>\n",
       "      <td>-0.009616</td>\n",
       "      <td>-0.289602</td>\n",
       "      <td>0.525815</td>\n",
       "      <td>-0.373837</td>\n",
       "      <td>-0.442462</td>\n",
       "      <td>0.070886</td>\n",
       "      <td>...</td>\n",
       "      <td>-0.026352</td>\n",
       "      <td>0.002642</td>\n",
       "      <td>0.116824</td>\n",
       "      <td>0.013433</td>\n",
       "      <td>-0.023715</td>\n",
       "      <td>0.006601</td>\n",
       "      <td>-0.018319</td>\n",
       "      <td>-0.011834</td>\n",
       "      <td>0.006340</td>\n",
       "      <td>0.018335</td>\n",
       "    </tr>\n",
       "  </tbody>\n",
       "</table>\n",
       "<p>5 rows × 40 columns</p>\n",
       "</div>"
      ],
      "text/plain": [
       "   component1  component2  component3  component4  component5  component6  \\\n",
       "0   -1.227235   -0.535039   -0.207585   -0.329875    0.331613   -0.044203   \n",
       "1    1.003797   -0.176693   -0.210427    0.563341    1.481934    0.010532   \n",
       "2   -1.100756   -0.713700    0.981225    0.425008   -0.739965    0.712751   \n",
       "3   -1.087891   -1.055981   -0.315088    0.310337   -0.578760    0.320032   \n",
       "4   -1.148789   -0.613098   -0.198405   -0.114587   -0.009616   -0.289602   \n",
       "\n",
       "   component7  component8  component9  component10  ...  component31  \\\n",
       "0    0.000522   -0.315153   -0.298563    -0.145047  ...     0.792512   \n",
       "1    0.157231    0.292022    0.280775     0.194263  ...     0.004863   \n",
       "2   -0.438088    0.001454   -0.083683    -0.094030  ...     0.025443   \n",
       "3   -0.494154    0.122066   -0.227204     0.061729  ...     0.022732   \n",
       "4    0.525815   -0.373837   -0.442462     0.070886  ...    -0.026352   \n",
       "\n",
       "   component32  component33  component34  component35  component36  \\\n",
       "0     0.083452    -0.327838     0.041809    -0.018397    -0.017271   \n",
       "1    -0.038510    -0.096814    -0.027659     0.034862     0.319607   \n",
       "2     0.024869     0.076152     0.032586    -0.015634    -0.001809   \n",
       "3     0.010944    -0.016621     0.024395    -0.028334    -0.000324   \n",
       "4     0.002642     0.116824     0.013433    -0.023715     0.006601   \n",
       "\n",
       "   component37  component38  component39  component40  \n",
       "0     0.055128    -0.005483    -0.031743     0.003997  \n",
       "1     0.213928     0.586479     0.607236     0.106881  \n",
       "2    -0.031624    -0.031576     0.019893    -0.001189  \n",
       "3     0.002731    -0.009500    -0.001701     0.004472  \n",
       "4    -0.018319    -0.011834     0.006340     0.018335  \n",
       "\n",
       "[5 rows x 40 columns]"
      ]
     },
     "metadata": {},
     "output_type": "display_data"
    },
    {
     "name": "stdout",
     "output_type": "stream",
     "text": [
      "Explained variance ratios: [0.5633148  0.09420566 0.04495839 0.03262069 0.02912015 0.02430839\n",
      " 0.01754523 0.01550367 0.0137209  0.01220815 0.01090009 0.01035865\n",
      " 0.00934007 0.00913042 0.00795108 0.00780987 0.00747868 0.00666989\n",
      " 0.0065228  0.00621251 0.00589566 0.00537098 0.00431339 0.0042003\n",
      " 0.00393858 0.0037102  0.00367184 0.00333229 0.00306648 0.00289202\n",
      " 0.00265922 0.00232396 0.00221581 0.00199019 0.00190409 0.00184466\n",
      " 0.00173299 0.00165894 0.0016371  0.00162624]\n"
     ]
    },
    {
     "data": {
      "image/png": "[encoded data removed]",
      "text/plain": [
       "<Figure size 432x288 with 1 Axes>"
      ]
     },
     "metadata": {
      "needs_background": "light"
     },
     "output_type": "display_data"
    }
   ],
   "source": [
    "#######################################################################################################################\n",
    "# Step 4 : Perform Dimensionality Reduction \n",
    "#######################################################################################################################\n",
    "def normalized_rmse(x, z):\n",
    "    \"\"\"\n",
    "    x is the true data\n",
    "    z is the reconstructed/predicted data\n",
    "    \"\"\"    \n",
    "    rmse = np.sqrt(mean_squared_error(x, z))\n",
    "    nrmse = rmse/np.sqrt(np.mean(x**2))   # between [0, 1]\n",
    "    return nrmse\n",
    "    \n",
    "    \n",
    "components = [4, 8, 12, 16, 20, 24, 28, 32, 36, 40, 44]\n",
    "pca_errors = []\n",
    "for n_components in components:\n",
    "    pca = PCA(n_components)\n",
    "    pca_data = pca.fit_transform(Xtrain[feature_selected_columns])\n",
    "    \n",
    "    reconstructed = pca.inverse_transform(pca_data)\n",
    "    nmrse = normalized_rmse(Xtrain[feature_selected_columns].values, reconstructed)\n",
    "    pca_errors.append(nmrse)\n",
    "    \n",
    "reconstruction_errors = pd.DataFrame(list(zip(components, pca_errors)), columns=[\"ncomponents\", \"reconstruction_nmrse\"])\n",
    "reconstruction_errors.plot(x = \"ncomponents\", y = \"reconstruction_nmrse\", kind=\"bar\")\n",
    "\n",
    "\n",
    "\"\"\"\n",
    "Based on the bar plot, if a 0.02 reconstruction error is deemed acceptable, than it looks like we need 40 \n",
    "components to achieve dimensionality reduction without introducing too much noise.\n",
    "\n",
    "The threshold used to determine number of components to use is based on heuristics. There are only approximately right\n",
    "answers here.\n",
    "\"\"\"\n",
    "\n",
    "pca = PCA(n_components=40)\n",
    "Xtrain_reduced = pca.fit_transform(Xtrain[feature_selected_columns])\n",
    "Xtest_reduced = pca.transform(Xtest[feature_selected_columns])  # all transformations on train must be applied to test\n",
    "print(Xtrain_reduced.shape, Xtest_reduced.shape)\n",
    "\n",
    "# put it back together into a df \n",
    "colnames = [\"component{}\".format(n) for n in range(1, Xtrain_reduced.shape[1]+1)]\n",
    "pca_train = pd.DataFrame(Xtrain_reduced, columns=colnames)\n",
    "pca_test = pd.DataFrame(Xtest_reduced, columns=colnames)\n",
    "display(pca_train.head())\n",
    "\n",
    "print(\"Explained variance ratios: {}\".format(pca.explained_variance_ratio_))"
   ]
  },
  {
   "cell_type": "code",
   "execution_count": 14,
   "metadata": {},
   "outputs": [
    {
     "name": "stderr",
     "output_type": "stream",
     "text": [
      "[Parallel(n_jobs=-1)]: Using backend ThreadingBackend with 8 concurrent workers.\n",
      "[Parallel(n_jobs=-1)]: Done  34 tasks      | elapsed:    0.1s\n",
      "[Parallel(n_jobs=-1)]: Done 100 out of 100 | elapsed:    0.4s finished\n",
      "[Parallel(n_jobs=8)]: Using backend ThreadingBackend with 8 concurrent workers.\n",
      "[Parallel(n_jobs=8)]: Done  34 tasks      | elapsed:    0.0s\n",
      "[Parallel(n_jobs=8)]: Done 100 out of 100 | elapsed:    0.0s finished\n"
     ]
    }
   ],
   "source": [
    "#######################################################################################################################\n",
    "# Step 5 : Perform Classification or hyperparameter tuning then classification using gridsearchcv \n",
    "#######################################################################################################################\n",
    "# define the grid\n",
    "\n",
    "# use gridsearchcv to get best estimator\n",
    "\n",
    "# train on full training dataset\n",
    "\n",
    "# predict on test dataset using predict_proba method\n",
    "\n",
    "# model = XGBClassifier(n_estimators = 100, max_depth=1, verbosity=1, random_state=42, n_jobs=-1)\n",
    "# model = LogisticRegression(C=1, class_weight=\"balanced\", n_jobs=-1, max_iter=200, verbose=1)\n",
    "\n",
    "\n",
    "model = RandomForestClassifier(class_weight=\"balanced\", max_depth=1, n_jobs=-1, verbose=1)\n",
    "model.fit(Xtrain_reduced, Ytrain)\n",
    "\n",
    "predictions = model.predict_proba(Xtest_reduced)"
   ]
  },
  {
   "cell_type": "code",
   "execution_count": 15,
   "metadata": {},
   "outputs": [],
   "source": [
    "#######################################################################################################################\n",
    "# Step 6 : Save and submit to kaggle\n",
    "#######################################################################################################################\n",
    "results = pd.DataFrame({\"LNR\":testdata.LNR, \"RESPONSE\":predictions[:, 1]}).to_csv(\"{} rfcresults.csv\".format(\n",
    "    model.__class__.__name__), index=False)"
   ]
  },
  {
   "cell_type": "code",
   "execution_count": 16,
   "metadata": {},
   "outputs": [
    {
     "name": "stderr",
     "output_type": "stream",
     "text": [
      "[Parallel(n_jobs=-1)]: Using backend LokyBackend with 8 concurrent workers.\n",
      "[Parallel(n_jobs=-1)]: Done   1 out of   1 | elapsed:    2.0s finished\n"
     ]
    }
   ],
   "source": [
    "model = LogisticRegression(C=1, class_weight=\"balanced\", n_jobs=-1, max_iter=200, verbose=1)\n",
    "model.fit(Xtrain_reduced, Ytrain)\n",
    "\n",
    "predictions = model.predict_proba(Xtest_reduced)\n",
    "\n",
    "results = pd.DataFrame({\"LNR\":testdata.LNR, \"RESPONSE\":predictions[:, 1]}).to_csv(\"{} logisticresults.csv\".format(\n",
    "    model.__class__.__name__), index=False)"
   ]
  },
  {
   "cell_type": "code",
   "execution_count": 17,
   "metadata": {},
   "outputs": [],
   "source": [
    "model = XGBClassifier(n_estimators = 100, max_depth=1, verbosity=1, random_state=42, n_jobs=-1)\n",
    "model.fit(Xtrain_reduced, Ytrain)\n",
    "\n",
    "predictions = model.predict_proba(Xtest_reduced)\n",
    "results = pd.DataFrame({\"LNR\":testdata.LNR, \"RESPONSE\":predictions[:, 1]}).to_csv(\"{} XGBresults.csv\".format(\n",
    "    model.__class__.__name__), index=False)"
   ]
  },
  {
   "cell_type": "code",
   "execution_count": 18,
   "metadata": {},
   "outputs": [
    {
     "name": "stdout",
     "output_type": "stream",
     "text": [
      "Fitting 5 folds for each of 4 candidates, totalling 20 fits\n"
     ]
    },
    {
     "name": "stderr",
     "output_type": "stream",
     "text": [
      "[Parallel(n_jobs=-1)]: Using backend LokyBackend with 8 concurrent workers.\n",
      "[Parallel(n_jobs=-1)]: Done  20 out of  20 | elapsed:    2.3s finished\n"
     ]
    },
    {
     "data": {
      "text/plain": [
       "LogisticRegression(C=0.5, class_weight='balanced')"
      ]
     },
     "execution_count": 18,
     "metadata": {},
     "output_type": "execute_result"
    }
   ],
   "source": [
    "# use gridsearchcv to get best estimator for Logistic Regression\n",
    "from sklearn.model_selection import GridSearchCV\n",
    "from sklearn.linear_model import LogisticRegression\n",
    "\n",
    "parameters = {'C':[0.5, 1, 10, 100], 'class_weight':['balanced'], }\n",
    "logreg=LogisticRegression()\n",
    "clf = GridSearchCV(logreg, parameters,\n",
    "                   n_jobs=-1, \n",
    "                   return_train_score=True, \n",
    "                   verbose=1, \n",
    "                   scoring=scoring_metrics,\n",
    "                   refit='roc_auc',  \n",
    "                  )\n",
    "clf.fit(Xtrain_reduced, Ytrain)\n",
    "clf.best_estimator_"
   ]
  },
  {
   "cell_type": "code",
   "execution_count": 19,
   "metadata": {},
   "outputs": [],
   "source": [
    "model=clf.best_estimator_\n",
    "model.fit(Xtrain_reduced, Ytrain)\n",
    "predictions = model.predict_proba(Xtest_reduced)\n",
    "results = pd.DataFrame({\"LNR\":testdata.LNR, \"RESPONSE\":predictions[:, 1]}).to_csv(\"{} GridLogresults.csv\".format(\n",
    "    model.__class__.__name__), index=False)\n"
   ]
  },
  {
   "cell_type": "code",
   "execution_count": 20,
   "metadata": {},
   "outputs": [
    {
     "name": "stdout",
     "output_type": "stream",
     "text": [
      "Fitting 5 folds for each of 54 candidates, totalling 270 fits\n"
     ]
    },
    {
     "name": "stderr",
     "output_type": "stream",
     "text": [
      "[Parallel(n_jobs=-1)]: Using backend LokyBackend with 8 concurrent workers.\n",
      "[Parallel(n_jobs=-1)]: Done  34 tasks      | elapsed:   44.6s\n",
      "[Parallel(n_jobs=-1)]: Done 184 tasks      | elapsed:  5.5min\n",
      "[Parallel(n_jobs=-1)]: Done 270 out of 270 | elapsed: 10.1min finished\n"
     ]
    },
    {
     "data": {
      "text/plain": [
       "GridSearchCV(cv=5,\n",
       "             estimator=RandomForestClassifier(class_weight='balanced',\n",
       "                                              random_state=42),\n",
       "             n_jobs=-1,\n",
       "             param_grid={'criterion': ['gini', 'entropy'],\n",
       "                         'max_depth': [4, 8, 12],\n",
       "                         'max_features': ['auto', 'sqrt', 'log2'],\n",
       "                         'n_estimators': [50, 100, 200]},\n",
       "             refit='roc_auc',\n",
       "             scoring=['accuracy', 'f1', 'precision', 'recall', 'roc_auc'],\n",
       "             verbose=1)"
      ]
     },
     "execution_count": 20,
     "metadata": {},
     "output_type": "execute_result"
    }
   ],
   "source": [
    "from sklearn.model_selection import GridSearchCV\n",
    "from sklearn.ensemble import RandomForestClassifier\n",
    "\n",
    "rfc=RandomForestClassifier(class_weight=\"balanced\", random_state=42)\n",
    "param_grid = { \n",
    "    'n_estimators': [50, 100, 200],\n",
    "    'max_features': ['auto', 'sqrt', 'log2'],\n",
    "    'max_depth' : [4, 8, 12],\n",
    "    'criterion' :['gini', 'entropy']\n",
    "    }\n",
    "CV_rfc = GridSearchCV(estimator=rfc, \n",
    "                      param_grid=param_grid, \n",
    "                      cv= 5,\n",
    "                      n_jobs=-1,\n",
    "                      verbose=1,\n",
    "                      scoring=scoring_metrics, \n",
    "                      refit=\"roc_auc\")\n",
    "CV_rfc.fit(Xtrain_reduced, Ytrain)"
   ]
  },
  {
   "cell_type": "code",
   "execution_count": 21,
   "metadata": {},
   "outputs": [],
   "source": [
    "model = CV_rfc.best_estimator_\n",
    "model.fit(Xtrain_reduced, Ytrain)\n",
    "predictions = model.predict_proba(Xtest_reduced)\n",
    "results = pd.DataFrame({\"LNR\":testdata.LNR, \"RESPONSE\":predictions[:, 1]}).to_csv(\"{} GridRandomForestresults.csv\".format(\n",
    "    model.__class__.__name__), index=False)"
   ]
  },
  {
   "cell_type": "code",
   "execution_count": 22,
   "metadata": {},
   "outputs": [
    {
     "name": "stdout",
     "output_type": "stream",
     "text": [
      "RandomForestClassifier(class_weight='balanced', criterion='entropy',\n",
      "                       max_depth=4, n_estimators=200, random_state=42)\n"
     ]
    }
   ],
   "source": [
    "print (CV_rfc.best_estimator_)"
   ]
  },
  {
   "cell_type": "code",
   "execution_count": 24,
   "metadata": {},
   "outputs": [
    {
     "name": "stdout",
     "output_type": "stream",
     "text": [
      "Fitting 5 folds for each of 54 candidates, totalling 270 fits\n"
     ]
    },
    {
     "name": "stderr",
     "output_type": "stream",
     "text": [
      "[Parallel(n_jobs=-1)]: Using backend LokyBackend with 8 concurrent workers.\n",
      "[Parallel(n_jobs=-1)]: Done  34 tasks      | elapsed:  2.1min\n",
      "[Parallel(n_jobs=-1)]: Done 184 tasks      | elapsed:  9.2min\n",
      "[Parallel(n_jobs=-1)]: Done 270 out of 270 | elapsed: 13.2min finished\n"
     ]
    },
    {
     "data": {
      "text/plain": [
       "GridSearchCV(cv=5,\n",
       "             estimator=XGBClassifier(base_score=None, booster=None,\n",
       "                                     colsample_bylevel=None,\n",
       "                                     colsample_bynode=None,\n",
       "                                     colsample_bytree=None, gamma=None,\n",
       "                                     gpu_id=None, importance_type='gain',\n",
       "                                     interaction_constraints=None,\n",
       "                                     learning_rate=None, max_delta_step=None,\n",
       "                                     max_depth=None, min_child_weight=None,\n",
       "                                     missing=nan, monotone_constraints=None,\n",
       "                                     n_estimators=100, n_jobs...\n",
       "                                     num_parallel_tree=None, random_state=None,\n",
       "                                     reg_alpha=None, reg_lambda=None,\n",
       "                                     scale_pos_weight=None, subsample=None,\n",
       "                                     tree_method=None, validate_parameters=None,\n",
       "                                     verbosity=None),\n",
       "             n_jobs=-1,\n",
       "             param_grid={'colsample_bytree': [0.7, 0.8],\n",
       "                         'max_depth': [10, 20, 5],\n",
       "                         'n_estimators': [100, 200, 50],\n",
       "                         'subsample': [0.7, 0.8, 0.9]},\n",
       "             refit='roc_auc',\n",
       "             scoring=['accuracy', 'f1', 'precision', 'recall', 'roc_auc'],\n",
       "             verbose=1)"
      ]
     },
     "execution_count": 24,
     "metadata": {},
     "output_type": "execute_result"
    }
   ],
   "source": [
    "import xgboost as xgb\n",
    "from sklearn.model_selection import GridSearchCV\n",
    "\n",
    "XGB = XGBClassifier()\n",
    "param_grid = {\n",
    "    'n_estimators': [100, 200,50 ],\n",
    "    'colsample_bytree': [0.7, 0.8],\n",
    "    'max_depth': [10,20,5],\n",
    "    'subsample': [0.7, 0.8, 0.9]\n",
    "}\n",
    "\n",
    "boost = GridSearchCV(XGB, \n",
    "                      param_grid=param_grid, \n",
    "                      cv= 5,\n",
    "                      n_jobs=-1,\n",
    "                      verbose=1,\n",
    "                      scoring=scoring_metrics, \n",
    "                      refit=\"roc_auc\")\n",
    "\n",
    "boost.fit(Xtrain_reduced, Ytrain)"
   ]
  },
  {
   "cell_type": "code",
   "execution_count": 26,
   "metadata": {},
   "outputs": [
    {
     "data": {
      "text/plain": [
       "XGBClassifier(base_score=0.5, booster='gbtree', colsample_bylevel=1,\n",
       "              colsample_bynode=1, colsample_bytree=0.7, gamma=0, gpu_id=-1,\n",
       "              importance_type='gain', interaction_constraints='',\n",
       "              learning_rate=0.300000012, max_delta_step=0, max_depth=5,\n",
       "              min_child_weight=1, missing=nan, monotone_constraints='()',\n",
       "              n_estimators=50, n_jobs=0, num_parallel_tree=1, random_state=0,\n",
       "              reg_alpha=0, reg_lambda=1, scale_pos_weight=1, subsample=0.7,\n",
       "              tree_method='exact', validate_parameters=1, verbosity=None)"
      ]
     },
     "execution_count": 26,
     "metadata": {},
     "output_type": "execute_result"
    }
   ],
   "source": [
    "boost.best_estimator_"
   ]
  },
  {
   "cell_type": "code",
   "execution_count": 27,
   "metadata": {},
   "outputs": [],
   "source": [
    "model = boost.best_estimator_\n",
    "model.fit(Xtrain_reduced, Ytrain)\n",
    "predictions = model.predict_proba(Xtest_reduced)\n",
    "results = pd.DataFrame({\"LNR\":testdata.LNR, \"RESPONSE\":predictions[:, 1]}).to_csv(\"{} XGBBoostGridresults.csv\".format(\n",
    "    model.__class__.__name__), index=False)"
   ]
  },
  {
   "cell_type": "code",
   "execution_count": null,
   "metadata": {},
   "outputs": [],
   "source": []
  }
 ],
 "metadata": {
  "kernelspec": {
   "display_name": "Python 3",
   "language": "python",
   "name": "python3"
  },
  "language_info": {
   "codemirror_mode": {
    "name": "ipython",
    "version": 3
   },
   "file_extension": ".py",
   "mimetype": "text/x-python",
   "name": "python",
   "nbconvert_exporter": "python",
   "pygments_lexer": "ipython3",
   "version": "3.7.9"
  }
 },
 "nbformat": 4,
 "nbformat_minor": 4
}
